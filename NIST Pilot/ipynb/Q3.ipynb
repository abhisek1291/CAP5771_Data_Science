{
 "cells": [
  {
   "cell_type": "code",
   "execution_count": 41,
   "metadata": {
    "collapsed": true
   },
   "outputs": [],
   "source": [
    "import pandas as pd\n",
    "import numpy as np\n",
    "import matplotlib.pyplot as plt\n",
    "\n",
    "%matplotlib inline"
   ]
  },
  {
   "cell_type": "code",
   "execution_count": 43,
   "metadata": {
    "collapsed": false
   },
   "outputs": [
    {
     "data": {
      "text/html": [
       "<div>\n",
       "<table border=\"1\" class=\"dataframe\">\n",
       "  <thead>\n",
       "    <tr style=\"text-align: right;\">\n",
       "      <th></th>\n",
       "      <th>trial_id</th>\n",
       "      <th>lane_id</th>\n",
       "      <th>measurement_start</th>\n",
       "      <th>speed</th>\n",
       "      <th>flow</th>\n",
       "      <th>occupancy</th>\n",
       "      <th>quality</th>\n",
       "    </tr>\n",
       "  </thead>\n",
       "  <tbody>\n",
       "    <tr>\n",
       "      <th>0</th>\n",
       "      <td>c_06_09_000000000</td>\n",
       "      <td>12</td>\n",
       "      <td>2006-09-01T00:00:07-04:00</td>\n",
       "      <td>65</td>\n",
       "      <td>0</td>\n",
       "      <td>0</td>\n",
       "      <td>0</td>\n",
       "    </tr>\n",
       "    <tr>\n",
       "      <th>1</th>\n",
       "      <td>c_06_09_000000001</td>\n",
       "      <td>13</td>\n",
       "      <td>2006-09-01T00:00:07-04:00</td>\n",
       "      <td>63</td>\n",
       "      <td>3</td>\n",
       "      <td>2</td>\n",
       "      <td>0</td>\n",
       "    </tr>\n",
       "    <tr>\n",
       "      <th>2</th>\n",
       "      <td>c_06_09_000000002</td>\n",
       "      <td>14</td>\n",
       "      <td>2006-09-01T00:00:07-04:00</td>\n",
       "      <td>64</td>\n",
       "      <td>-2</td>\n",
       "      <td>1</td>\n",
       "      <td>0</td>\n",
       "    </tr>\n",
       "    <tr>\n",
       "      <th>3</th>\n",
       "      <td>c_06_09_000000003</td>\n",
       "      <td>15</td>\n",
       "      <td>2006-09-01T00:00:07-04:00</td>\n",
       "      <td>59</td>\n",
       "      <td>4</td>\n",
       "      <td>3</td>\n",
       "      <td>0</td>\n",
       "    </tr>\n",
       "    <tr>\n",
       "      <th>4</th>\n",
       "      <td>c_06_09_000000004</td>\n",
       "      <td>16</td>\n",
       "      <td>2006-09-01T00:00:07-04:00</td>\n",
       "      <td>66</td>\n",
       "      <td>5</td>\n",
       "      <td>1</td>\n",
       "      <td>0</td>\n",
       "    </tr>\n",
       "  </tbody>\n",
       "</table>\n",
       "</div>"
      ],
      "text/plain": [
       "            trial_id  lane_id          measurement_start  speed  flow  \\\n",
       "0  c_06_09_000000000       12  2006-09-01T00:00:07-04:00     65     0   \n",
       "1  c_06_09_000000001       13  2006-09-01T00:00:07-04:00     63     3   \n",
       "2  c_06_09_000000002       14  2006-09-01T00:00:07-04:00     64    -2   \n",
       "3  c_06_09_000000003       15  2006-09-01T00:00:07-04:00     59     4   \n",
       "4  c_06_09_000000004       16  2006-09-01T00:00:07-04:00     66     5   \n",
       "\n",
       "   occupancy  quality  \n",
       "0          0        0  \n",
       "1          2        0  \n",
       "2          1        0  \n",
       "3          3        0  \n",
       "4          1        0  "
      ]
     },
     "execution_count": 43,
     "metadata": {},
     "output_type": "execute_result"
    }
   ],
   "source": [
    "df = pd.read_csv('datasets/cleaning_test_06_09.tsv', delimiter='\\t')\n",
    "df.head()"
   ]
  },
  {
   "cell_type": "code",
   "execution_count": 44,
   "metadata": {
    "collapsed": false
   },
   "outputs": [
    {
     "data": {
      "text/html": [
       "<div>\n",
       "<table border=\"1\" class=\"dataframe\">\n",
       "  <thead>\n",
       "    <tr style=\"text-align: right;\">\n",
       "      <th></th>\n",
       "      <th>trial_id</th>\n",
       "      <th>lane_id</th>\n",
       "      <th>measurement_start</th>\n",
       "      <th>speed</th>\n",
       "      <th>flow</th>\n",
       "      <th>occupancy</th>\n",
       "      <th>quality</th>\n",
       "    </tr>\n",
       "  </thead>\n",
       "  <tbody>\n",
       "    <tr>\n",
       "      <th>0</th>\n",
       "      <td>c_06_09_000000000</td>\n",
       "      <td>12</td>\n",
       "      <td>2006-09-01T00:00:07-04:00</td>\n",
       "      <td>65</td>\n",
       "      <td>0</td>\n",
       "      <td>0</td>\n",
       "      <td>0</td>\n",
       "    </tr>\n",
       "    <tr>\n",
       "      <th>1</th>\n",
       "      <td>c_06_09_000000001</td>\n",
       "      <td>13</td>\n",
       "      <td>2006-09-01T00:00:07-04:00</td>\n",
       "      <td>63</td>\n",
       "      <td>3</td>\n",
       "      <td>2</td>\n",
       "      <td>0</td>\n",
       "    </tr>\n",
       "    <tr>\n",
       "      <th>2</th>\n",
       "      <td>c_06_09_000000002</td>\n",
       "      <td>14</td>\n",
       "      <td>2006-09-01T00:00:07-04:00</td>\n",
       "      <td>64</td>\n",
       "      <td>-2</td>\n",
       "      <td>1</td>\n",
       "      <td>0</td>\n",
       "    </tr>\n",
       "    <tr>\n",
       "      <th>3</th>\n",
       "      <td>c_06_09_000000003</td>\n",
       "      <td>15</td>\n",
       "      <td>2006-09-01T00:00:07-04:00</td>\n",
       "      <td>59</td>\n",
       "      <td>4</td>\n",
       "      <td>3</td>\n",
       "      <td>0</td>\n",
       "    </tr>\n",
       "    <tr>\n",
       "      <th>4</th>\n",
       "      <td>c_06_09_000000004</td>\n",
       "      <td>16</td>\n",
       "      <td>2006-09-01T00:00:07-04:00</td>\n",
       "      <td>66</td>\n",
       "      <td>5</td>\n",
       "      <td>1</td>\n",
       "      <td>0</td>\n",
       "    </tr>\n",
       "  </tbody>\n",
       "</table>\n",
       "</div>"
      ],
      "text/plain": [
       "            trial_id  lane_id          measurement_start  speed  flow  \\\n",
       "0  c_06_09_000000000       12  2006-09-01T00:00:07-04:00     65     0   \n",
       "1  c_06_09_000000001       13  2006-09-01T00:00:07-04:00     63     3   \n",
       "2  c_06_09_000000002       14  2006-09-01T00:00:07-04:00     64    -2   \n",
       "3  c_06_09_000000003       15  2006-09-01T00:00:07-04:00     59     4   \n",
       "4  c_06_09_000000004       16  2006-09-01T00:00:07-04:00     66     5   \n",
       "\n",
       "   occupancy  quality  \n",
       "0          0        0  \n",
       "1          2        0  \n",
       "2          1        0  \n",
       "3          3        0  \n",
       "4          1        0  "
      ]
     },
     "execution_count": 44,
     "metadata": {},
     "output_type": "execute_result"
    }
   ],
   "source": [
    "df.head()"
   ]
  },
  {
   "cell_type": "code",
   "execution_count": 37,
   "metadata": {
    "collapsed": false
   },
   "outputs": [
    {
     "data": {
      "text/html": [
       "<div>\n",
       "<table border=\"1\" class=\"dataframe\">\n",
       "  <thead>\n",
       "    <tr style=\"text-align: right;\">\n",
       "      <th></th>\n",
       "      <th>value</th>\n",
       "      <th>count</th>\n",
       "    </tr>\n",
       "  </thead>\n",
       "  <tbody>\n",
       "    <tr>\n",
       "      <th>0</th>\n",
       "      <td>0</td>\n",
       "      <td>0.179570</td>\n",
       "    </tr>\n",
       "    <tr>\n",
       "      <th>1</th>\n",
       "      <td>65</td>\n",
       "      <td>0.071545</td>\n",
       "    </tr>\n",
       "    <tr>\n",
       "      <th>2</th>\n",
       "      <td>62</td>\n",
       "      <td>0.044323</td>\n",
       "    </tr>\n",
       "    <tr>\n",
       "      <th>3</th>\n",
       "      <td>59</td>\n",
       "      <td>0.043555</td>\n",
       "    </tr>\n",
       "    <tr>\n",
       "      <th>4</th>\n",
       "      <td>68</td>\n",
       "      <td>0.038644</td>\n",
       "    </tr>\n",
       "  </tbody>\n",
       "</table>\n",
       "</div>"
      ],
      "text/plain": [
       "   value     count\n",
       "0      0  0.179570\n",
       "1     65  0.071545\n",
       "2     62  0.044323\n",
       "3     59  0.043555\n",
       "4     68  0.038644"
      ]
     },
     "execution_count": 37,
     "metadata": {},
     "output_type": "execute_result"
    }
   ],
   "source": [
    "# speed, flow, occupancy\n",
    "\n",
    "test_df = df\n",
    "total_count = test_df['speed'].count()\n",
    "cols = ['value', 'count']\n",
    "counts = pd.DataFrame(test_df['speed'].value_counts().reset_index())\n",
    "counts.columns = cols\n",
    "counts['count'] = counts['count']/float(total_count)\n",
    "counts.head()"
   ]
  },
  {
   "cell_type": "code",
   "execution_count": 40,
   "metadata": {
    "collapsed": false
   },
   "outputs": [
    {
     "data": {
      "text/plain": [
       "(0, 0.37957007828678047)"
      ]
     },
     "execution_count": 40,
     "metadata": {},
     "output_type": "execute_result"
    },
    {
     "data": {
      "image/png": "[encoded data removed]",
      "text/plain": [
       "<matplotlib.figure.Figure at 0x11fb32b10>"
      ]
     },
     "metadata": {},
     "output_type": "display_data"
    }
   ],
   "source": [
    "plt.figure(figsize=(20,10))\n",
    "plt.bar(counts['value'], counts['count'], align='center', alpha=1)\n",
    "plt.xlabel('speeds')\n",
    "plt.ylabel('frequency')\n",
    "y_lim_up = np.max(counts['count']) + 0.2\n",
    "y_lim_up = 1 if y_lim_up > 1 else y_lim_up\n",
    "plt.ylim(0, y_lim_up)"
   ]
  },
  {
   "cell_type": "code",
   "execution_count": 33,
   "metadata": {
    "collapsed": false
   },
   "outputs": [
    {
     "data": {
      "text/plain": [
       "<matplotlib.text.Text at 0x116439dd0>"
      ]
     },
     "execution_count": 33,
     "metadata": {},
     "output_type": "execute_result"
    },
    {
     "data": {
      "image/png": "[encoded data removed]",
      "text/plain": [
       "<matplotlib.figure.Figure at 0x1145a4f10>"
      ]
     },
     "metadata": {},
     "output_type": "display_data"
    }
   ],
   "source": [
    "flow_df = df\n",
    "total_count = flow_df['flow'].count()\n",
    "cols = ['value', 'count']\n",
    "flow_counts = pd.DataFrame(flow_df['flow'].value_counts().reset_index())\n",
    "flow_counts.columns = cols\n",
    "flow_counts['count'] = flow_counts['count']/float(total_count)\n",
    "flow_counts.head()\n",
    "\n",
    "plt.figure(figsize=(20,10))\n",
    "plt.bar(flow_counts['value'], flow_counts['count'], align='center', alpha=1)\n",
    "plt.xlabel('speeds')\n",
    "plt.ylabel('frequency')"
   ]
  },
  {
   "cell_type": "code",
   "execution_count": 35,
   "metadata": {
    "collapsed": false
   },
   "outputs": [
    {
     "data": {
      "text/plain": [
       "<matplotlib.text.Text at 0x11aaf9c90>"
      ]
     },
     "execution_count": 35,
     "metadata": {},
     "output_type": "execute_result"
    },
    {
     "data": {
      "image/png": "[encoded data removed]",
      "text/plain": [
       "<matplotlib.figure.Figure at 0x119394d50>"
      ]
     },
     "metadata": {},
     "output_type": "display_data"
    }
   ],
   "source": [
    "occupancy_df = df\n",
    "total_count = occupancy_df['occupancy'].count()\n",
    "cols = ['value', 'count']\n",
    "occupancy_counts = pd.DataFrame(occupancy_df['occupancy'].value_counts().reset_index())\n",
    "occupancy_counts.columns = cols\n",
    "occupancy_counts['count'] = occupancy_counts['count']/float(total_count)\n",
    "occupancy_counts.head()\n",
    "\n",
    "plt.figure(figsize=(20,10))\n",
    "plt.bar(occupancy_counts['value'], occupancy_counts['count'], align='center', alpha=1)\n",
    "plt.xlabel('speeds')\n",
    "plt.ylabel('frequency')"
   ]
  },
  {
   "cell_type": "code",
   "execution_count": null,
   "metadata": {
    "collapsed": true
   },
   "outputs": [],
   "source": []
  }
 ],
 "metadata": {
  "kernelspec": {
   "display_name": "Python [Root]",
   "language": "python",
   "name": "Python [Root]"
  },
  "language_info": {
   "codemirror_mode": {
    "name": "ipython",
    "version": 2
   },
   "file_extension": ".py",
   "mimetype": "text/x-python",
   "name": "python",
   "nbconvert_exporter": "python",
   "pygments_lexer": "ipython2",
   "version": "2.7.12"
  }
 },
 "nbformat": 4,
 "nbformat_minor": 0
}
